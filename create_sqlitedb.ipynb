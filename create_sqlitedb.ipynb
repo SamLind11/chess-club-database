{
 "cells": [
  {
   "cell_type": "code",
   "execution_count": 1,
   "metadata": {},
   "outputs": [],
   "source": [
    "# Import dependency.\n",
    "import sqlite3"
   ]
  },
  {
   "cell_type": "code",
   "execution_count": 2,
   "metadata": {},
   "outputs": [
    {
     "data": {
      "text/plain": [
       "<sqlite3.Cursor at 0x17c6a6956c0>"
      ]
     },
     "execution_count": 2,
     "metadata": {},
     "output_type": "execute_result"
    }
   ],
   "source": [
    "conn = sqlite3.connect('chess.db')\n",
    "conn.execute('PRAGMA foreign_keys = 1')"
   ]
  },
  {
   "cell_type": "code",
   "execution_count": 3,
   "metadata": {},
   "outputs": [],
   "source": [
    "# Command to create the members table.\n",
    "create_member_table = \"\"\" CREATE TABLE IF NOT EXISTS members (\n",
    "                    id integer PRIMARY KEY NOT NULL,\n",
    "                    firstName text NOT NULL,\n",
    "                    lastName text NOT NULL,\n",
    "                    rating real NOT NULL,\n",
    "                    gamesPlayed integer NOT NULL,\n",
    "                    dateOfBirth text NOT NULL,\n",
    "                    dateJoined text NOT NULL\n",
    ")\"\"\""
   ]
  },
  {
   "cell_type": "code",
   "execution_count": 4,
   "metadata": {},
   "outputs": [],
   "source": [
    "cursor = conn.cursor()"
   ]
  },
  {
   "cell_type": "code",
   "execution_count": 4,
   "metadata": {},
   "outputs": [
    {
     "data": {
      "text/plain": [
       "<sqlite3.Cursor at 0x21d4ead54c0>"
      ]
     },
     "execution_count": 4,
     "metadata": {},
     "output_type": "execute_result"
    }
   ],
   "source": [
    "# Add member table to chess.db.\n",
    "cursor.execute(create_member_table)"
   ]
  },
  {
   "cell_type": "code",
   "execution_count": 3,
   "metadata": {},
   "outputs": [],
   "source": [
    "# Command to create the games table.\n",
    "create_games_table = \"\"\" CREATE TABLE IF NOT EXISTS games (\n",
    "                    id integer PRIMARY KEY NOT NULL,\n",
    "                    datePlayed text NOT NULL,\n",
    "                    whiteId integer NOT NULL,\n",
    "                    blackId integer NOT NULL,\n",
    "                    whiteScore real NOT NULL,\n",
    "                    blackScore real NOT NULL,\n",
    "                    whiteOldRating real NOT NULL,\n",
    "                    whiteNewRating real NOT NULL,\n",
    "                    blackOldRating real NOT NULL,\n",
    "                    blackNewRating real NOT NULL,\n",
    "                    pgn text,\n",
    "                    FOREIGN KEY (whiteId) REFERENCES members (id),\n",
    "                    FOREIGN KEY (blackId) REFERENCES members (id)\n",
    ")\"\"\""
   ]
  },
  {
   "cell_type": "code",
   "execution_count": 5,
   "metadata": {},
   "outputs": [
    {
     "data": {
      "text/plain": [
       "<sqlite3.Cursor at 0x17c6a695940>"
      ]
     },
     "execution_count": 5,
     "metadata": {},
     "output_type": "execute_result"
    }
   ],
   "source": [
    "# Add games table to chess.db\n",
    "cursor.execute(create_games_table)"
   ]
  },
  {
   "cell_type": "code",
   "execution_count": 5,
   "metadata": {},
   "outputs": [],
   "source": [
    "conn.close()"
   ]
  }
 ],
 "metadata": {
  "kernelspec": {
   "display_name": "dev",
   "language": "python",
   "name": "python3"
  },
  "language_info": {
   "codemirror_mode": {
    "name": "ipython",
    "version": 3
   },
   "file_extension": ".py",
   "mimetype": "text/x-python",
   "name": "python",
   "nbconvert_exporter": "python",
   "pygments_lexer": "ipython3",
   "version": "3.10.11"
  }
 },
 "nbformat": 4,
 "nbformat_minor": 2
}
